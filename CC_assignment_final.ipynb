{
  "nbformat": 4,
  "nbformat_minor": 0,
  "metadata": {
    "colab": {
      "provenance": [],
      "include_colab_link": true
    },
    "kernelspec": {
      "name": "python3",
      "display_name": "Python 3"
    },
    "language_info": {
      "name": "python"
    }
  },
  "cells": [
    {
      "cell_type": "markdown",
      "metadata": {
        "id": "view-in-github",
        "colab_type": "text"
      },
      "source": [
        "<a href=\"https://colab.research.google.com/github/yashjtorreto/Cloud-Computing-Assignment/blob/main/CC_assignment_final.ipynb\" target=\"_parent\"><img src=\"https://colab.research.google.com/assets/colab-badge.svg\" alt=\"Open In Colab\"/></a>"
      ]
    },
    {
      "cell_type": "code",
      "source": [
        "import os\n",
        "from requests import Session\n",
        "from pyspark.sql import SparkSession\n",
        "from pyspark.sql.functions import lit\n",
        "from pyspark import SparkConf"
      ],
      "metadata": {
        "id": "NHTS8jyXkCUI"
      },
      "execution_count": 43,
      "outputs": []
    },
    {
      "cell_type": "code",
      "source": [
        "# Initialize Spark Session\n",
        "spark = SparkSession.builder \\\n",
        "    .appName(\"NBA ETL Pipeline\") \\\n",
        "    .config(\"spark.jars\", \"/path/to/postgresql-connector.jar\") \\\n",
        "    .getOrCreate()"
      ],
      "metadata": {
        "id": "f5vWPt9VkDMB"
      },
      "execution_count": 44,
      "outputs": []
    },
    {
      "cell_type": "code",
      "source": [
        "# Define file URLs\n",
        "data_sources = {\n",
        "    \"player_metrics_miss\": \"https://www.kaggle.com/datasets/matthewjohnson14/nba-player-shooting-motions?select=player_metrics_miss.csv\",\n",
        "    \"path_detail\": \"https://www.dropbox.com/scl/fi/9llp2cy1jl3bx7zuqyorp/path_detail.csv?rlkey=pf7dzvj86na5exuh5eytwg7h0&e=1&dl=0\",\n",
        "    \"player_metrics_open\": \"https://www.dropbox.com/scl/fi/ty12tbqi19w5i6drnykv7/player_metrics_open.csv?rlkey=1qj278pasngogkmj7lqh3kujb&e=1&dl=0\",\n",
        "    \"path_detail_open\": \"https://www.dropbox.com/scl/fi/szz04ps9j0kqgclx1oaqa/path_detail_open.csv?rlkey=v9vm9knrl4ktckm7wkf2cyoue&e=1&dl=0\",\n",
        "    \"player_metrics_defended\": \"https://www.dropbox.com/scl/fi/awzgtgnrnfzstpuvh15cc/player_metrics_defended.csv?rlkey=62nhrd1ffw03y34u4fftdqfes&e=1&dl=0\",\n",
        "    \"path_detail_defended\": \"https://www.dropbox.com/scl/fi/0fw5xqf8t64t6cr0lpum2/path_detail_defended.csv?rlkey=77v9cr8gzt4masvy3unnv8vnr&e=1&dl=0\",\n",
        "    \"player_metrics_made\": \"https://www.dropbox.com/scl/fi/ld7gnfh8aok3yxk86qf9c/player_metrics_made.csv?rlkey=3jq0cu1mkolp2fnqsm91475x1&e=1&dl=0\",\n",
        "    \"path_detail_made\": \"https://www.dropbox.com/scl/fi/csv28z6jd3n4z4ddotp46/path_detail_made.csv?rlkey=fdb0esikdsj2eta2ls608p9lh&e=1&dl=0\",\n",
        "    \"player_metrics_miss_2\": \"https://www.dropbox.com/scl/fi/s9dz3v8tltf2k4ch3q2pe/player_metrics_miss.csv?rlkey=6e68dh4i99lvh073ut0hs0omq&e=1&dl=0\",\n",
        "    \"path_detail_miss\": \"https://www.dropbox.com/scl/fi/tyioo0zxwf1x1stqijbcr/path_detail_miss.csv?rlkey=pfm57a7qz67t7o6gcnpcwv7il&e=1&dl=0\"\n",
        "}\n"
      ],
      "metadata": {
        "id": "uSG2ObAWkGLM"
      },
      "execution_count": 45,
      "outputs": []
    },
    {
      "cell_type": "code",
      "source": [
        "\n",
        "# Directory to store downloaded files\n",
        "DOWNLOAD_DIR = \"nba_data\"  # Change this to your desired directory\n",
        "\n",
        "# Create the download directory if it doesn't exist\n",
        "if not os.path.exists(DOWNLOAD_DIR):\n",
        "    os.makedirs(DOWNLOAD_DIR)\n",
        "\n",
        "# Download files using requests\n",
        "session = Session()\n",
        "for filename, url in data_sources.items():\n",
        "    filepath = os.path.join(DOWNLOAD_DIR, filename + \".csv\")  # Create full file path\n",
        "    print(f\"Downloading {filename} from {url} to {filepath}\")\n",
        "    try:\n",
        "        response = session.get(url, stream=True)\n",
        "        response.raise_for_status()  # Raise an exception for bad status codes\n",
        "\n",
        "        with open(filepath, \"wb\") as f:\n",
        "            for chunk in response.iter_content(chunk_size=8192):\n",
        "                f.write(chunk)\n",
        "        print(f\"Downloaded {filename} successfully.\")\n",
        "    except Exception as e:\n",
        "        print(f\"Error downloading {filename}: {e}\")\n",
        "\n",
        "print(\"All files downloaded (or skipped due to errors).\")"
      ],
      "metadata": {
        "colab": {
          "base_uri": "https://localhost:8080/"
        },
        "id": "cDwRlMTgkT91",
        "outputId": "3c2092c5-cd9e-4b2b-ce3d-62152d1e7d92"
      },
      "execution_count": 46,
      "outputs": [
        {
          "output_type": "stream",
          "name": "stdout",
          "text": [
            "Downloading player_metrics_miss from https://www.kaggle.com/datasets/matthewjohnson14/nba-player-shooting-motions?select=player_metrics_miss.csv to nba_data/player_metrics_miss.csv\n",
            "Downloaded player_metrics_miss successfully.\n",
            "Downloading path_detail from https://www.dropbox.com/scl/fi/9llp2cy1jl3bx7zuqyorp/path_detail.csv?rlkey=pf7dzvj86na5exuh5eytwg7h0&e=1&dl=0 to nba_data/path_detail.csv\n",
            "Downloaded path_detail successfully.\n",
            "Downloading player_metrics_open from https://www.dropbox.com/scl/fi/ty12tbqi19w5i6drnykv7/player_metrics_open.csv?rlkey=1qj278pasngogkmj7lqh3kujb&e=1&dl=0 to nba_data/player_metrics_open.csv\n",
            "Downloaded player_metrics_open successfully.\n",
            "Downloading path_detail_open from https://www.dropbox.com/scl/fi/szz04ps9j0kqgclx1oaqa/path_detail_open.csv?rlkey=v9vm9knrl4ktckm7wkf2cyoue&e=1&dl=0 to nba_data/path_detail_open.csv\n",
            "Downloaded path_detail_open successfully.\n",
            "Downloading player_metrics_defended from https://www.dropbox.com/scl/fi/awzgtgnrnfzstpuvh15cc/player_metrics_defended.csv?rlkey=62nhrd1ffw03y34u4fftdqfes&e=1&dl=0 to nba_data/player_metrics_defended.csv\n",
            "Downloaded player_metrics_defended successfully.\n",
            "Downloading path_detail_defended from https://www.dropbox.com/scl/fi/0fw5xqf8t64t6cr0lpum2/path_detail_defended.csv?rlkey=77v9cr8gzt4masvy3unnv8vnr&e=1&dl=0 to nba_data/path_detail_defended.csv\n",
            "Downloaded path_detail_defended successfully.\n",
            "Downloading player_metrics_made from https://www.dropbox.com/scl/fi/ld7gnfh8aok3yxk86qf9c/player_metrics_made.csv?rlkey=3jq0cu1mkolp2fnqsm91475x1&e=1&dl=0 to nba_data/player_metrics_made.csv\n",
            "Downloaded player_metrics_made successfully.\n",
            "Downloading path_detail_made from https://www.dropbox.com/scl/fi/csv28z6jd3n4z4ddotp46/path_detail_made.csv?rlkey=fdb0esikdsj2eta2ls608p9lh&e=1&dl=0 to nba_data/path_detail_made.csv\n",
            "Downloaded path_detail_made successfully.\n",
            "Downloading player_metrics_miss_2 from https://www.dropbox.com/scl/fi/s9dz3v8tltf2k4ch3q2pe/player_metrics_miss.csv?rlkey=6e68dh4i99lvh073ut0hs0omq&e=1&dl=0 to nba_data/player_metrics_miss_2.csv\n",
            "Downloaded player_metrics_miss_2 successfully.\n",
            "Downloading path_detail_miss from https://www.dropbox.com/scl/fi/tyioo0zxwf1x1stqijbcr/path_detail_miss.csv?rlkey=pfm57a7qz67t7o6gcnpcwv7il&e=1&dl=0 to nba_data/path_detail_miss.csv\n",
            "Downloaded path_detail_miss successfully.\n",
            "All files downloaded (or skipped due to errors).\n"
          ]
        }
      ]
    },
    {
      "cell_type": "code",
      "source": [
        "# prompt: # Load datasets into DataFrames\n",
        "\n",
        "# Load the datasets into Spark DataFrames\n",
        "dfs = {}\n",
        "for filename, _ in data_sources.items():\n",
        "    filepath = os.path.join(DOWNLOAD_DIR, filename + \".csv\")\n",
        "    try:\n",
        "        dfs[filename] = spark.read.csv(filepath, header=True, inferSchema=True)\n",
        "        print(f\"Loaded {filename} into DataFrame.\")\n",
        "    except Exception as e:\n",
        "        print(f\"Error loading {filename}: {e}\")\n",
        "\n",
        "# Example usage of the loaded DataFrames\n",
        "# Assuming 'player_metrics_made' is loaded successfully:\n",
        "# dfs['player_metrics_made'].show(5)\n",
        "# dfs['path_detail'].printSchema()"
      ],
      "metadata": {
        "colab": {
          "base_uri": "https://localhost:8080/"
        },
        "id": "u4qQTD6LkyYZ",
        "outputId": "2cc84b7d-b3f7-44cb-e7ec-aeeacaddf4e1"
      },
      "execution_count": 47,
      "outputs": [
        {
          "output_type": "stream",
          "name": "stdout",
          "text": [
            "Loaded player_metrics_miss into DataFrame.\n",
            "Loaded path_detail into DataFrame.\n",
            "Loaded player_metrics_open into DataFrame.\n",
            "Loaded path_detail_open into DataFrame.\n",
            "Loaded player_metrics_defended into DataFrame.\n",
            "Loaded path_detail_defended into DataFrame.\n",
            "Loaded player_metrics_made into DataFrame.\n",
            "Loaded path_detail_made into DataFrame.\n",
            "Loaded player_metrics_miss_2 into DataFrame.\n",
            "Loaded path_detail_miss into DataFrame.\n"
          ]
        }
      ]
    },
    {
      "cell_type": "code",
      "source": [
        "# prompt: # Transformation: Add outcome columns\n",
        "\n",
        "# Add outcome column to each DataFrame\n",
        "for df_name, df in dfs.items():\n",
        "    if \"made\" in df_name:\n",
        "        dfs[df_name] = df.withColumn(\"outcome\", lit(\"made\"))\n",
        "    elif \"miss\" in df_name:\n",
        "        dfs[df_name] = df.withColumn(\"outcome\", lit(\"miss\"))\n",
        "    elif \"open\" in df_name:\n",
        "        dfs[df_name] = df.withColumn(\"outcome\", lit(\"open\"))\n",
        "    elif \"defended\" in df_name:\n",
        "        dfs[df_name] = df.withColumn(\"outcome\", lit(\"defended\"))\n",
        "    else:\n",
        "        dfs[df_name] = df.withColumn(\"outcome\", lit(\"unknown\")) # Handle other cases\n",
        "\n",
        "# Verify the outcome column addition\n",
        "# Example: Show the first few rows of player_metrics_made with the new column\n",
        "# dfs['player_metrics_made'].show(5)"
      ],
      "metadata": {
        "id": "vFHJglQpk6Sl"
      },
      "execution_count": 48,
      "outputs": []
    },
    {
      "cell_type": "code",
      "source": [
        "# prompt:  Verify the outcome column addition\n",
        "\n",
        "# Verify the outcome column addition for all dataframes\n",
        "for df_name, df in dfs.items():\n",
        "    print(f\"Verifying outcome column for: {df_name}\")\n",
        "    df.select(\"outcome\").distinct().show()"
      ],
      "metadata": {
        "colab": {
          "base_uri": "https://localhost:8080/"
        },
        "id": "SPUkCNQrk9zF",
        "outputId": "fb3cb5eb-6544-47c3-c458-5c73830ed98e"
      },
      "execution_count": 49,
      "outputs": [
        {
          "output_type": "stream",
          "name": "stdout",
          "text": [
            "Verifying outcome column for: player_metrics_miss\n",
            "+-------+\n",
            "|outcome|\n",
            "+-------+\n",
            "|   miss|\n",
            "+-------+\n",
            "\n",
            "Verifying outcome column for: path_detail\n",
            "+-------+\n",
            "|outcome|\n",
            "+-------+\n",
            "|unknown|\n",
            "+-------+\n",
            "\n",
            "Verifying outcome column for: player_metrics_open\n",
            "+-------+\n",
            "|outcome|\n",
            "+-------+\n",
            "|   open|\n",
            "+-------+\n",
            "\n",
            "Verifying outcome column for: path_detail_open\n",
            "+-------+\n",
            "|outcome|\n",
            "+-------+\n",
            "|   open|\n",
            "+-------+\n",
            "\n",
            "Verifying outcome column for: player_metrics_defended\n",
            "+--------+\n",
            "| outcome|\n",
            "+--------+\n",
            "|defended|\n",
            "+--------+\n",
            "\n",
            "Verifying outcome column for: path_detail_defended\n",
            "+--------+\n",
            "| outcome|\n",
            "+--------+\n",
            "|defended|\n",
            "+--------+\n",
            "\n",
            "Verifying outcome column for: player_metrics_made\n",
            "+-------+\n",
            "|outcome|\n",
            "+-------+\n",
            "|   made|\n",
            "+-------+\n",
            "\n",
            "Verifying outcome column for: path_detail_made\n",
            "+-------+\n",
            "|outcome|\n",
            "+-------+\n",
            "|   made|\n",
            "+-------+\n",
            "\n",
            "Verifying outcome column for: player_metrics_miss_2\n",
            "+-------+\n",
            "|outcome|\n",
            "+-------+\n",
            "|   miss|\n",
            "+-------+\n",
            "\n",
            "Verifying outcome column for: path_detail_miss\n",
            "+-------+\n",
            "|outcome|\n",
            "+-------+\n",
            "|   miss|\n",
            "+-------+\n",
            "\n"
          ]
        }
      ]
    },
    {
      "cell_type": "code",
      "source": [
        "dfs['player_metrics_made'].show(5)\n"
      ],
      "metadata": {
        "colab": {
          "base_uri": "https://localhost:8080/"
        },
        "id": "0vRN4Q3clHLH",
        "outputId": "7ce5319d-3823-457f-813b-6957fb49e9f9"
      },
      "execution_count": 50,
      "outputs": [
        {
          "output_type": "stream",
          "name": "stdout",
          "text": [
            "+--------------------+-------+\n",
            "|     <!DOCTYPE html>|outcome|\n",
            "+--------------------+-------+\n",
            "|<html class=\"maes...|   made|\n",
            "|<head><meta chars...|   made|\n",
            "|<meta content=\"no...|   made|\n",
            "|<meta content=\"wi...|   made|\n",
            "|<meta content=\"ht...|   made|\n",
            "+--------------------+-------+\n",
            "only showing top 5 rows\n",
            "\n"
          ]
        }
      ]
    },
    {
      "cell_type": "code",
      "source": [
        "# prompt: # Combine datasets into a single DataFrame\n",
        "\n",
        "from functools import reduce\n",
        "from pyspark.sql import DataFrame\n",
        "\n",
        "# Combine all DataFrames into a single DataFrame\n",
        "combined_df = reduce(DataFrame.unionAll, dfs.values())\n",
        "\n",
        "# Show the combined DataFrame (optional)\n",
        "combined_df.show(5)\n",
        "\n",
        "# You can now perform operations on the combined_df"
      ],
      "metadata": {
        "colab": {
          "base_uri": "https://localhost:8080/"
        },
        "id": "Q-JzVkI6lLci",
        "outputId": "d8c334be-f5bb-4920-f7a5-5ac3f02fe02a"
      },
      "execution_count": 51,
      "outputs": [
        {
          "output_type": "stream",
          "name": "stdout",
          "text": [
            "+--------------------+-------+\n",
            "|     <!DOCTYPE html>|outcome|\n",
            "+--------------------+-------+\n",
            "|    <html lang=\"en\">|   miss|\n",
            "|              <head>|   miss|\n",
            "|  <title>NBA Play...|   miss|\n",
            "|  <meta charset=\"...|   miss|\n",
            "|    <meta name=\"r...|   miss|\n",
            "+--------------------+-------+\n",
            "only showing top 5 rows\n",
            "\n"
          ]
        }
      ]
    },
    {
      "cell_type": "code",
      "source": [
        "# Print the shape of the combined dataset\n",
        "print((combined_df.count(), len(combined_df.columns)))"
      ],
      "metadata": {
        "colab": {
          "base_uri": "https://localhost:8080/"
        },
        "id": "rRLHPZlA1gSn",
        "outputId": "457b3df9-c7f0-41e8-d5e1-fbb9d45cb89e"
      },
      "execution_count": 53,
      "outputs": [
        {
          "output_type": "stream",
          "name": "stdout",
          "text": [
            "(4134, 2)\n"
          ]
        }
      ]
    },
    {
      "cell_type": "code",
      "source": [
        "import pandas as pd\n",
        "\n",
        "# Assuming 'combined_df' from the previous code is available\n",
        "\n",
        "# Convert the Spark DataFrame to a Pandas DataFrame\n",
        "pandas_df = combined_df.toPandas()\n",
        "\n",
        "# Save the Pandas DataFrame to a CSV file\n",
        "pandas_df.to_csv(\"combined_nba_data.csv\", index=False)"
      ],
      "metadata": {
        "id": "NUGAde3_1s6m"
      },
      "execution_count": 52,
      "outputs": []
    },
    {
      "cell_type": "code",
      "source": [
        "from google.colab import files\n",
        "files.download('combined_nba_data.csv')"
      ],
      "metadata": {
        "colab": {
          "base_uri": "https://localhost:8080/",
          "height": 17
        },
        "id": "3zxXS4Tr14v2",
        "outputId": "8c6d60dd-bf89-47d6-8671-504c347ce44a"
      },
      "execution_count": 54,
      "outputs": [
        {
          "output_type": "display_data",
          "data": {
            "text/plain": [
              "<IPython.core.display.Javascript object>"
            ],
            "application/javascript": [
              "\n",
              "    async function download(id, filename, size) {\n",
              "      if (!google.colab.kernel.accessAllowed) {\n",
              "        return;\n",
              "      }\n",
              "      const div = document.createElement('div');\n",
              "      const label = document.createElement('label');\n",
              "      label.textContent = `Downloading \"${filename}\": `;\n",
              "      div.appendChild(label);\n",
              "      const progress = document.createElement('progress');\n",
              "      progress.max = size;\n",
              "      div.appendChild(progress);\n",
              "      document.body.appendChild(div);\n",
              "\n",
              "      const buffers = [];\n",
              "      let downloaded = 0;\n",
              "\n",
              "      const channel = await google.colab.kernel.comms.open(id);\n",
              "      // Send a message to notify the kernel that we're ready.\n",
              "      channel.send({})\n",
              "\n",
              "      for await (const message of channel.messages) {\n",
              "        // Send a message to notify the kernel that we're ready.\n",
              "        channel.send({})\n",
              "        if (message.buffers) {\n",
              "          for (const buffer of message.buffers) {\n",
              "            buffers.push(buffer);\n",
              "            downloaded += buffer.byteLength;\n",
              "            progress.value = downloaded;\n",
              "          }\n",
              "        }\n",
              "      }\n",
              "      const blob = new Blob(buffers, {type: 'application/binary'});\n",
              "      const a = document.createElement('a');\n",
              "      a.href = window.URL.createObjectURL(blob);\n",
              "      a.download = filename;\n",
              "      div.appendChild(a);\n",
              "      a.click();\n",
              "      div.remove();\n",
              "    }\n",
              "  "
            ]
          },
          "metadata": {}
        },
        {
          "output_type": "display_data",
          "data": {
            "text/plain": [
              "<IPython.core.display.Javascript object>"
            ],
            "application/javascript": [
              "download(\"download_9f7e47a8-40a4-42e3-99e5-4a6345def498\", \"combined_nba_data.csv\", 353789)"
            ]
          },
          "metadata": {}
        }
      ]
    }
  ]
}